{
  "cells": [
    {
      "cell_type": "markdown",
      "metadata": {
        "id": "view-in-github",
        "colab_type": "text"
      },
      "source": [
        "<a href=\"https://colab.research.google.com/github/abdallah155/weather-forecast/blob/main/weather_forecast.ipynb\" target=\"_parent\"><img src=\"https://colab.research.google.com/assets/colab-badge.svg\" alt=\"Open In Colab\"/></a>"
      ]
    },
    {
      "cell_type": "code",
      "execution_count": null,
      "metadata": {
        "id": "9sDar5TizhN5",
        "colab": {
          "base_uri": "https://localhost:8080/",
          "height": 383
        },
        "outputId": "fbc8d4be-602a-43fa-d1da-ae869f505c5d"
      },
      "outputs": [
        {
          "output_type": "error",
          "ename": "ModuleNotFoundError",
          "evalue": "ignored",
          "traceback": [
            "\u001b[0;31m---------------------------------------------------------------------------\u001b[0m",
            "\u001b[0;31mModuleNotFoundError\u001b[0m                       Traceback (most recent call last)",
            "\u001b[0;32m<ipython-input-3-a7710c75c285>\u001b[0m in \u001b[0;36m<cell line: 9>\u001b[0;34m()\u001b[0m\n\u001b[1;32m      7\u001b[0m \u001b[0;32mfrom\u001b[0m \u001b[0mtensorflow\u001b[0m\u001b[0;34m.\u001b[0m\u001b[0mpython\u001b[0m\u001b[0;34m.\u001b[0m\u001b[0mkeras\u001b[0m\u001b[0;34m.\u001b[0m\u001b[0mcallbacks\u001b[0m \u001b[0;32mimport\u001b[0m \u001b[0mTensorBoard\u001b[0m\u001b[0;34m\u001b[0m\u001b[0;34m\u001b[0m\u001b[0m\n\u001b[1;32m      8\u001b[0m \u001b[0;31m#from keras.layers.convolutional import Conv2D\u001b[0m\u001b[0;34m\u001b[0m\u001b[0;34m\u001b[0m\u001b[0m\n\u001b[0;32m----> 9\u001b[0;31m \u001b[0;32mfrom\u001b[0m \u001b[0mkeras\u001b[0m\u001b[0;34m.\u001b[0m\u001b[0mlayers\u001b[0m\u001b[0;34m.\u001b[0m\u001b[0mconvolutional\u001b[0m \u001b[0;32mimport\u001b[0m \u001b[0mMaxPooling2D\u001b[0m\u001b[0;34m\u001b[0m\u001b[0;34m\u001b[0m\u001b[0m\n\u001b[0m\u001b[1;32m     10\u001b[0m \u001b[0;32mfrom\u001b[0m \u001b[0mtensorflow\u001b[0m\u001b[0;34m.\u001b[0m\u001b[0mkeras\u001b[0m\u001b[0;34m.\u001b[0m\u001b[0moptimizers\u001b[0m \u001b[0;32mimport\u001b[0m \u001b[0mSGD\u001b[0m\u001b[0;34m\u001b[0m\u001b[0;34m\u001b[0m\u001b[0m\n\u001b[1;32m     11\u001b[0m \u001b[0;32mfrom\u001b[0m \u001b[0mtensorflow\u001b[0m\u001b[0;34m.\u001b[0m\u001b[0mkeras\u001b[0m\u001b[0;34m.\u001b[0m\u001b[0moptimizers\u001b[0m \u001b[0;32mimport\u001b[0m \u001b[0mRMSprop\u001b[0m\u001b[0;34m\u001b[0m\u001b[0;34m\u001b[0m\u001b[0m\n",
            "\u001b[0;31mModuleNotFoundError\u001b[0m: No module named 'keras.layers.convolutional'",
            "",
            "\u001b[0;31m---------------------------------------------------------------------------\u001b[0;32m\nNOTE: If your import is failing due to a missing package, you can\nmanually install dependencies using either !pip or !apt.\n\nTo view examples of installing some common dependencies, click the\n\"Open Examples\" button below.\n\u001b[0;31m---------------------------------------------------------------------------\u001b[0m\n"
          ],
          "errorDetails": {
            "actions": [
              {
                "action": "open_url",
                "actionText": "Open Examples",
                "url": "/notebooks/snippets/importing_libraries.ipynb"
              }
            ]
          }
        }
      ],
      "source": [
        "from keras.models import Sequential\n",
        "import tensorflow as tf\n",
        "\n",
        "import tensorflow_datasets as tfds\n",
        "import pandas as pd\n",
        "#from keras.layers.core import Dense, Activation, Dropout, Flatten\n",
        "from tensorflow.python.keras.callbacks import TensorBoard\n",
        "#from keras.layers.convolutional import Conv2D\n",
        "from keras.layers.convolutional import MaxPooling2D\n",
        "from tensorflow.keras.optimizers import SGD\n",
        "from tensorflow.keras.optimizers import RMSprop\n",
        "from tensorflow.keras.optimizers import Adam\n",
        "from keras.utils import np_utils\n",
        "from sklearn.tree import DecisionTreeClassifier # Import Decision Tree Classifier\n",
        "from sklearn import metrics\n",
        "from sklearn.utils import shuffle\n",
        "from sklearn.model_selection import train_test_split\n",
        "import matplotlib.image as mpimg\n",
        "import matplotlib.pyplot as plt\n",
        "import numpy as np\n",
        "import os\n",
        "import cv2\n",
        "from random import random\n",
        "from PIL import Image\n",
        "#import theano\n",
        "from keras.preprocessing.image import ImageDataGenerator\n",
        "from matplotlib import pyplot"
      ]
    },
    {
      "cell_type": "code",
      "execution_count": null,
      "metadata": {
        "colab": {
          "base_uri": "https://localhost:8080/"
        },
        "id": "2Un2H9l6AjX9",
        "outputId": "ebbbf1e6-f9a7-482c-d808-470aaeacf399"
      },
      "outputs": [
        {
          "output_type": "stream",
          "name": "stdout",
          "text": [
            "Mounted at /content/gdrive\n"
          ]
        }
      ],
      "source": [
        "from google.colab import drive\n",
        "drive.mount('/content/gdrive', force_remount=True)"
      ]
    },
    {
      "cell_type": "code",
      "execution_count": null,
      "metadata": {
        "id": "S4LmD2J53qqZ"
      },
      "outputs": [],
      "source": [
        "\n",
        "dir = \"/content/gdrive/MyDrive/Train\"\n",
        "CATEGORIES =  [\"dew\",\"fogsmog\",\"frost\",\"glaze\",\"hail\",\"lightning\",\"rain\",\"rainbow\",\"rime\",\"sandstorm\",\"snow\"]\n"
      ]
    },
    {
      "cell_type": "code",
      "execution_count": null,
      "metadata": {
        "colab": {
          "base_uri": "https://localhost:8080/",
          "height": 245
        },
        "id": "rVyHrWTr0yyh",
        "outputId": "52397f89-a362-45a4-f279-1354552294a2"
      },
      "outputs": [
        {
          "output_type": "error",
          "ename": "FileNotFoundError",
          "evalue": "ignored",
          "traceback": [
            "\u001b[0;31m---------------------------------------------------------------------------\u001b[0m",
            "\u001b[0;31mFileNotFoundError\u001b[0m                         Traceback (most recent call last)",
            "\u001b[0;32m<ipython-input-7-7bfbcd4cb969>\u001b[0m in \u001b[0;36m<cell line: 2>\u001b[0;34m()\u001b[0m\n\u001b[1;32m      2\u001b[0m \u001b[0;32mfor\u001b[0m \u001b[0mcategory\u001b[0m \u001b[0;32min\u001b[0m \u001b[0mCATEGORIES\u001b[0m\u001b[0;34m:\u001b[0m  \u001b[0;31m#\u001b[0m\u001b[0;34m\u001b[0m\u001b[0;34m\u001b[0m\u001b[0m\n\u001b[1;32m      3\u001b[0m     \u001b[0mpath\u001b[0m \u001b[0;34m=\u001b[0m \u001b[0mos\u001b[0m\u001b[0;34m.\u001b[0m\u001b[0mpath\u001b[0m\u001b[0;34m.\u001b[0m\u001b[0mjoin\u001b[0m\u001b[0;34m(\u001b[0m\u001b[0mdir\u001b[0m\u001b[0;34m,\u001b[0m\u001b[0mcategory\u001b[0m\u001b[0;34m)\u001b[0m\u001b[0;34m\u001b[0m\u001b[0;34m\u001b[0m\u001b[0m\n\u001b[0;32m----> 4\u001b[0;31m     \u001b[0;32mfor\u001b[0m \u001b[0mimg\u001b[0m \u001b[0;32min\u001b[0m \u001b[0mos\u001b[0m\u001b[0;34m.\u001b[0m\u001b[0mlistdir\u001b[0m\u001b[0;34m(\u001b[0m\u001b[0mpath\u001b[0m\u001b[0;34m)\u001b[0m\u001b[0;34m:\u001b[0m\u001b[0;34m\u001b[0m\u001b[0;34m\u001b[0m\u001b[0m\n\u001b[0m\u001b[1;32m      5\u001b[0m         \u001b[0mimg_array\u001b[0m \u001b[0;34m=\u001b[0m \u001b[0mcv2\u001b[0m\u001b[0;34m.\u001b[0m\u001b[0mimread\u001b[0m\u001b[0;34m(\u001b[0m\u001b[0mos\u001b[0m\u001b[0;34m.\u001b[0m\u001b[0mpath\u001b[0m\u001b[0;34m.\u001b[0m\u001b[0mjoin\u001b[0m\u001b[0;34m(\u001b[0m\u001b[0mpath\u001b[0m\u001b[0;34m,\u001b[0m\u001b[0mimg\u001b[0m\u001b[0;34m)\u001b[0m\u001b[0;34m)\u001b[0m  \u001b[0;31m# convert to array\u001b[0m\u001b[0;34m\u001b[0m\u001b[0;34m\u001b[0m\u001b[0m\n\u001b[1;32m      6\u001b[0m         \u001b[0mplt\u001b[0m\u001b[0;34m.\u001b[0m\u001b[0mimshow\u001b[0m\u001b[0;34m(\u001b[0m\u001b[0mimg_array\u001b[0m\u001b[0;34m)\u001b[0m  \u001b[0;31m# graph it\u001b[0m\u001b[0;34m\u001b[0m\u001b[0;34m\u001b[0m\u001b[0m\n",
            "\u001b[0;31mFileNotFoundError\u001b[0m: [Errno 2] No such file or directory: '/content/gdrive/MyDrive/Train/dew'"
          ]
        }
      ],
      "source": [
        "import os\n",
        "for category in CATEGORIES:  #\n",
        "    path = os.path.join(dir,category)\n",
        "    for img in os.listdir(path):\n",
        "        img_array = cv2.imread(os.path.join(path,img))  # convert to array\n",
        "        plt.imshow(img_array)  # graph it\n",
        "        plt.show()  # display!\n",
        "\n",
        "        break  # we just want one for now so break\n",
        "    break  #...and one more!"
      ]
    },
    {
      "cell_type": "code",
      "execution_count": null,
      "metadata": {
        "colab": {
          "base_uri": "https://localhost:8080/"
        },
        "id": "LDJSy0X_uaqN",
        "outputId": "33899c58-1b29-41e5-e6b2-ddec205164fa"
      },
      "outputs": [
        {
          "name": "stdout",
          "output_type": "stream",
          "text": [
            "(278, 400, 3)\n"
          ]
        }
      ],
      "source": [
        "print(img_array.shape)"
      ]
    },
    {
      "cell_type": "code",
      "execution_count": null,
      "metadata": {
        "colab": {
          "base_uri": "https://localhost:8080/",
          "height": 265
        },
        "id": "9-gGOpPaugLu",
        "outputId": "96e8ec82-2fe2-4ec6-de89-d6790bb7e0aa"
      },
      "outputs": [
        {
          "data": {
            "image/png": "[encoded data removed]",
            "text/plain": [
              "<Figure size 432x288 with 1 Axes>"
            ]
          },
          "metadata": {},
          "output_type": "display_data"
        }
      ],
      "source": [
        "IMG_SIZE = 28\n",
        "\n",
        "new_array = cv2.resize(img_array, (IMG_SIZE, IMG_SIZE))\n",
        "plt.imshow(new_array)\n",
        "plt.show()"
      ]
    },
    {
      "cell_type": "code",
      "execution_count": null,
      "metadata": {
        "colab": {
          "base_uri": "https://localhost:8080/"
        },
        "id": "GW_xsNIELOTI",
        "outputId": "1c99073a-ba91-421f-ae21-a1336057d5af"
      },
      "outputs": [
        {
          "name": "stderr",
          "output_type": "stream",
          "text": [
            "100%|██████████| 557/557 [00:11<00:00, 48.00it/s]\n",
            "100%|██████████| 750/750 [00:13<00:00, 55.17it/s] \n",
            "100%|██████████| 334/334 [00:08<00:00, 37.33it/s]\n",
            "100%|██████████| 538/538 [00:08<00:00, 65.49it/s] \n",
            "100%|██████████| 450/450 [00:08<00:00, 53.62it/s] \n",
            "100%|██████████| 276/276 [00:03<00:00, 71.84it/s] \n",
            "100%|██████████| 385/385 [00:05<00:00, 75.17it/s] \n",
            "100%|██████████| 131/131 [00:01<00:00, 68.15it/s] \n",
            "100%|██████████| 1059/1059 [00:21<00:00, 50.41it/s] \n",
            "100%|██████████| 551/551 [00:09<00:00, 58.71it/s] \n",
            "100%|██████████| 520/520 [00:09<00:00, 57.02it/s] \n"
          ]
        }
      ],
      "source": [
        "from tqdm import tqdm\n",
        "training_data = []\n",
        "\n",
        "def create_training_data():\n",
        "    for category in CATEGORIES:\n",
        "\n",
        "        path = os.path.join(dir,category)  # create path to all weather\n",
        "        class_num = CATEGORIES.index(category)  # get the classification  (0--->10)\n",
        "\n",
        "        for img in tqdm(os.listdir(path)):  # iterate over each image\n",
        "            try:\n",
        "                img_array = cv2.imread(os.path.join(path,img))  # convert to array\n",
        "                new_array = cv2.resize(img_array, (IMG_SIZE, IMG_SIZE))  # resize to normalize data size\n",
        "                training_data.append([new_array, class_num])  # add this to our training_data\n",
        "            except Exception as e:  # in the interest in keeping the output clean...\n",
        "                pass\n",
        "create_training_data()"
      ]
    },
    {
      "cell_type": "code",
      "execution_count": null,
      "metadata": {
        "colab": {
          "base_uri": "https://localhost:8080/"
        },
        "id": "gcSDZ3e6LOkz",
        "outputId": "c65483f8-7e9f-4540-b832-e39e37b4ce7d"
      },
      "outputs": [
        {
          "name": "stdout",
          "output_type": "stream",
          "text": [
            "5550\n"
          ]
        }
      ],
      "source": [
        "print(len(training_data))"
      ]
    },
    {
      "cell_type": "code",
      "execution_count": null,
      "metadata": {
        "id": "TFgbUZvELOx6"
      },
      "outputs": [],
      "source": [
        "import random\n",
        "random.shuffle(training_data)\n"
      ]
    },
    {
      "cell_type": "code",
      "execution_count": null,
      "metadata": {
        "colab": {
          "base_uri": "https://localhost:8080/"
        },
        "id": "HYWli0l1uac6",
        "outputId": "b3156008-8afe-4c94-f01c-e49d0b3aafdb"
      },
      "outputs": [
        {
          "name": "stdout",
          "output_type": "stream",
          "text": [
            "9\n",
            "8\n",
            "4\n",
            "3\n",
            "9\n",
            "1\n",
            "0\n",
            "4\n",
            "7\n",
            "0\n"
          ]
        }
      ],
      "source": [
        "for sample in training_data[:10]:\n",
        "    print(sample[1])"
      ]
    },
    {
      "cell_type": "code",
      "execution_count": null,
      "metadata": {
        "id": "pLpGuqjM1Du3"
      },
      "outputs": [],
      "source": [
        "X =[]\n",
        "y =[]\n",
        "for features, label in training_data:\n",
        "  X.append(features)\n",
        "  y.append(label)\n",
        "X = np.array(X) #.reshape(-1, IMG_SIZE, IMG_SIZE, 3)"
      ]
    },
    {
      "cell_type": "code",
      "execution_count": null,
      "metadata": {
        "id": "PXlAinVCGtp-"
      },
      "outputs": [],
      "source": [
        "X = X.astype('float32')\n",
        "\n",
        "X /= 255\n",
        "from keras.utils import np_utils\n",
        "Y = np_utils.to_categorical(y, 11)"
      ]
    },
    {
      "cell_type": "code",
      "execution_count": null,
      "metadata": {
        "colab": {
          "base_uri": "https://localhost:8080/"
        },
        "id": "IikBjpuDOLNU",
        "outputId": "95ee6bd1-44bb-4bf9-f74d-dc5387371d43"
      },
      "outputs": [
        {
          "name": "stdout",
          "output_type": "stream",
          "text": [
            "(5550, 11)\n",
            "(5550, 28, 28, 3)\n"
          ]
        }
      ],
      "source": [
        "print(Y.shape)\n",
        "print(X.shape)"
      ]
    },
    {
      "cell_type": "code",
      "execution_count": null,
      "metadata": {
        "id": "OxM0q7aENXgj"
      },
      "outputs": [],
      "source": [
        "X_train, X_test, y_train, y_test = train_test_split(X, Y,  test_size = 0.2, random_state = 4)\n"
      ]
    },
    {
      "cell_type": "code",
      "execution_count": null,
      "metadata": {
        "id": "0gfqqud14i8p"
      },
      "outputs": [],
      "source": [
        "train_datagen = ImageDataGenerator(rescale=1./255,\n",
        "      rotation_range=10,\n",
        "      width_shift_range=0.2,\n",
        "      height_shift_range=0.2,\n",
        "      shear_range=0.2,\n",
        "      zoom_range=0.2,\n",
        "      horizontal_flip=True,\n",
        "      fill_mode='nearest',\n",
        "\n",
        "    )\n",
        "train_datagen.fit(X_train)\n"
      ]
    },
    {
      "cell_type": "code",
      "execution_count": null,
      "metadata": {
        "id": "UxpRtKrPUMux"
      },
      "outputs": [],
      "source": [
        "# model = Sequential()\n",
        "# model.add(Conv2D(32, kernel_size=(3, 3),\n",
        "#                  strides=2,\n",
        "#                  activation='relu',\n",
        "#                  input_shape=(IMG_SIZE, IMG_SIZE, 3)))\n",
        "# model.add(Dropout(0.5))\n",
        "# model.add(Conv2D(64, kernel_size=(3, 3), strides=2, activation='relu'))\n",
        "# model.add(Dropout(0.5))\n",
        "# model.add(Flatten())\n",
        "# model.add(Dense(128, activation='relu'))\n",
        "# model.add(Dense(128, activation='relu'))\n",
        "# model.add(Dense(11, activation='softmax'))\n",
        "# model.compile(optimizer = 'adam',loss = 'categorical_crossentropy', metrics = ['accuracy'])\n",
        "# print(model.summary())"
      ]
    },
    {
      "cell_type": "code",
      "execution_count": null,
      "metadata": {
        "colab": {
          "base_uri": "https://localhost:8080/"
        },
        "id": "dGSpsZKoUieP",
        "outputId": "8d552b4d-cee4-4605-d87a-6f27fdaa1c35"
      },
      "outputs": [
        {
          "name": "stdout",
          "output_type": "stream",
          "text": [
            "Model: \"sequential\"\n",
            "_________________________________________________________________\n",
            " Layer (type)                Output Shape              Param #   \n",
            "=================================================================\n",
            " conv2d (Conv2D)             (None, 28, 28, 784)       21952     \n",
            "                                                                 \n",
            " average_pooling2d (AverageP  (None, 14, 14, 784)      0         \n",
            " ooling2D)                                                       \n",
            "                                                                 \n",
            " batch_normalization (BatchN  (None, 14, 14, 784)      3136      \n",
            " ormalization)                                                   \n",
            "                                                                 \n",
            " conv2d_1 (Conv2D)           (None, 14, 14, 392)       2766344   \n",
            "                                                                 \n",
            " average_pooling2d_1 (Averag  (None, 7, 7, 392)        0         \n",
            " ePooling2D)                                                     \n",
            "                                                                 \n",
            " batch_normalization_1 (Batc  (None, 7, 7, 392)        1568      \n",
            " hNormalization)                                                 \n",
            "                                                                 \n",
            " conv2d_2 (Conv2D)           (None, 7, 7, 196)         691684    \n",
            "                                                                 \n",
            " average_pooling2d_2 (Averag  (None, 4, 4, 196)        0         \n",
            " ePooling2D)                                                     \n",
            "                                                                 \n",
            " batch_normalization_2 (Batc  (None, 4, 4, 196)        784       \n",
            " hNormalization)                                                 \n",
            "                                                                 \n",
            " conv2d_3 (Conv2D)           (None, 4, 4, 98)          172970    \n",
            "                                                                 \n",
            " average_pooling2d_3 (Averag  (None, 2, 2, 98)         0         \n",
            " ePooling2D)                                                     \n",
            "                                                                 \n",
            " batch_normalization_3 (Batc  (None, 2, 2, 98)         392       \n",
            " hNormalization)                                                 \n",
            "                                                                 \n",
            " conv2d_4 (Conv2D)           (None, 2, 2, 64)          56512     \n",
            "                                                                 \n",
            " average_pooling2d_4 (Averag  (None, 1, 1, 64)         0         \n",
            " ePooling2D)                                                     \n",
            "                                                                 \n",
            " batch_normalization_4 (Batc  (None, 1, 1, 64)         256       \n",
            " hNormalization)                                                 \n",
            "                                                                 \n",
            " flatten (Flatten)           (None, 64)                0         \n",
            "                                                                 \n",
            " dense (Dense)               (None, 784)               50960     \n",
            "                                                                 \n",
            " dropout (Dropout)           (None, 784)               0         \n",
            "                                                                 \n",
            " batch_normalization_5 (Batc  (None, 784)              3136      \n",
            " hNormalization)                                                 \n",
            "                                                                 \n",
            " dense_1 (Dense)             (None, 512)               401920    \n",
            "                                                                 \n",
            " dropout_1 (Dropout)         (None, 512)               0         \n",
            "                                                                 \n",
            " batch_normalization_6 (Batc  (None, 512)              2048      \n",
            " hNormalization)                                                 \n",
            "                                                                 \n",
            " dense_2 (Dense)             (None, 256)               131328    \n",
            "                                                                 \n",
            " dropout_2 (Dropout)         (None, 256)               0         \n",
            "                                                                 \n",
            " batch_normalization_7 (Batc  (None, 256)              1024      \n",
            " hNormalization)                                                 \n",
            "                                                                 \n",
            " dense_3 (Dense)             (None, 11)                2827      \n",
            "                                                                 \n",
            "=================================================================\n",
            "Total params: 4,308,841\n",
            "Trainable params: 4,302,669\n",
            "Non-trainable params: 6,172\n",
            "_________________________________________________________________\n",
            "None\n"
          ]
        }
      ],
      "source": [
        "from tensorflow.keras.models import Sequential\n",
        "from tensorflow.keras.layers import Conv2D\n",
        "from tensorflow.keras.layers import MaxPooling2D\n",
        "from tensorflow.keras.layers import Flatten\n",
        "from tensorflow.keras.layers import AveragePooling2D\n",
        "from tensorflow.keras.layers import Dense\n",
        "from tensorflow.keras.layers import Dropout\n",
        "from tensorflow.keras.layers import BatchNormalization\n",
        "import tensorflow.keras\n",
        "from tensorflow.keras.models import Sequential\n",
        "from tensorflow.keras.layers import Dense\n",
        "# Load libraries\n",
        "import numpy as np\n",
        "from tensorflow.keras import models\n",
        "from tensorflow.keras import layers\n",
        "from tensorflow.keras.wrappers.scikit_learn import KerasClassifier\n",
        "from sklearn.model_selection import cross_val_score\n",
        "from sklearn.datasets import make_classification\n",
        "import math\n",
        "# Set random seed\n",
        "np.random.seed(0)\n",
        "\n",
        "def step_decay(epoch):\n",
        "   initial_lrate = 0.1\n",
        "   drop = 0.5\n",
        "   epochs_drop = 10.0\n",
        "   lrate = initial_lrate * math.pow(drop,\n",
        "           math.floor((1+epoch)/epochs_drop))\n",
        "   return lrate\n",
        "\n",
        "#with strategy.scope():\n",
        "\n",
        "model=Sequential()\n",
        "model.add(Conv2D(784,(3,3), input_shape = (IMG_SIZE,IMG_SIZE,3),padding='same',activation='relu'))\n",
        "\n",
        "                   # pooling step\n",
        "model.add(AveragePooling2D(pool_size=(2,2),padding='same'))\n",
        "model.add(BatchNormalization())\n",
        "\n",
        "                   # adding another layer and pooling it\n",
        "model.add(Conv2D(392,(3,3),padding='same',activation='relu'))\n",
        "model.add(AveragePooling2D(pool_size=(2,2),padding='same'))\n",
        "model.add(BatchNormalization())\n",
        "\n",
        "                    # adding another layer and pooling it\n",
        "model.add(Conv2D(196,(3,3),padding='same',activation='relu'))\n",
        "model.add(AveragePooling2D(pool_size=(2,2),padding='same'))\n",
        "model.add(BatchNormalization())\n",
        "\n",
        "model.add(Conv2D(98,(3,3),padding='same',activation='relu'))\n",
        "model.add(AveragePooling2D(pool_size=(2,2),padding='same'))\n",
        "model.add(BatchNormalization())\n",
        "\n",
        "model.add(Conv2D(64,(3,3),padding='same',activation='relu'))\n",
        "model.add(AveragePooling2D(pool_size=(2,2),padding='same'))\n",
        "model.add(BatchNormalization())\n",
        "\n",
        "                            # flattening step\n",
        "model.add(Flatten())\n",
        "\n",
        "                    # first full connection layer\n",
        "model.add(Dense(units=784,activation='relu'))\n",
        "model.add(Dropout(0.2))\n",
        "model.add(BatchNormalization())\n",
        "\n",
        "        # second full connection layer\n",
        "model.add(Dense(units=512,activation='relu'))\n",
        "model.add(Dropout(0.2))\n",
        "model.add(BatchNormalization())\n",
        "\n",
        "model.add(Dense(units=256,activation='relu'))\n",
        "model.add(Dropout(0.2))\n",
        "model.add(BatchNormalization())\n",
        "\n",
        "                               # output layer\n",
        "model.add(Dense(units=11,activation=\"softmax\"))\n",
        "model.compile(optimizer=tf.keras.optimizers.SGD(learning_rate= 0.01, momentum= 0.9, decay=0.0,nesterov=True),loss='categorical_crossentropy',\n",
        "                    metrics=['accuracy'])\n",
        "print(model.summary())"
      ]
    },
    {
      "cell_type": "code",
      "source": [],
      "metadata": {
        "id": "ihrNVqdETciP"
      },
      "execution_count": null,
      "outputs": []
    },
    {
      "cell_type": "code",
      "execution_count": null,
      "metadata": {
        "id": "bYFr07WxVx99"
      },
      "outputs": [],
      "source": [
        "Train_gen=train_datagen.flow(X_train, y_train,batch_size=256)"
      ]
    },
    {
      "cell_type": "code",
      "execution_count": null,
      "metadata": {
        "colab": {
          "base_uri": "https://localhost:8080/"
        },
        "id": "dsRPDMRgfFyJ",
        "outputId": "2ea543f1-dd30-4cdf-b1b1-69fde03be8d0"
      },
      "outputs": [
        {
          "name": "stdout",
          "output_type": "stream",
          "text": [
            "Epoch 1/100\n",
            "18/18 [==============================] - 24s 398ms/step - loss: 2.2850 - accuracy: 0.3025 - val_loss: 6.4136 - val_accuracy: 0.0910\n",
            "Epoch 2/100\n",
            "18/18 [==============================] - 3s 185ms/step - loss: 1.7316 - accuracy: 0.4437 - val_loss: 22.7955 - val_accuracy: 0.1063\n",
            "Epoch 3/100\n",
            "18/18 [==============================] - 3s 172ms/step - loss: 1.5959 - accuracy: 0.4818 - val_loss: 25.7599 - val_accuracy: 0.1063\n",
            "Epoch 4/100\n",
            "18/18 [==============================] - 3s 170ms/step - loss: 1.5302 - accuracy: 0.5018 - val_loss: 26.0898 - val_accuracy: 0.1063\n",
            "Epoch 5/100\n",
            "18/18 [==============================] - 3s 175ms/step - loss: 1.4752 - accuracy: 0.5047 - val_loss: 20.0491 - val_accuracy: 0.1063\n",
            "Epoch 6/100\n",
            "18/18 [==============================] - 3s 180ms/step - loss: 1.4183 - accuracy: 0.5367 - val_loss: 15.8064 - val_accuracy: 0.1063\n",
            "Epoch 7/100\n",
            "18/18 [==============================] - 3s 180ms/step - loss: 1.4154 - accuracy: 0.5320 - val_loss: 13.7317 - val_accuracy: 0.1063\n",
            "Epoch 8/100\n",
            "18/18 [==============================] - 3s 182ms/step - loss: 1.3966 - accuracy: 0.5408 - val_loss: 13.9406 - val_accuracy: 0.1063\n",
            "Epoch 9/100\n",
            "18/18 [==============================] - 3s 179ms/step - loss: 1.3816 - accuracy: 0.5403 - val_loss: 12.2012 - val_accuracy: 0.1063\n",
            "Epoch 10/100\n",
            "18/18 [==============================] - 3s 177ms/step - loss: 1.3547 - accuracy: 0.5502 - val_loss: 10.4318 - val_accuracy: 0.1063\n",
            "Epoch 11/100\n",
            "18/18 [==============================] - 3s 173ms/step - loss: 1.3489 - accuracy: 0.5532 - val_loss: 11.4782 - val_accuracy: 0.1054\n",
            "Epoch 12/100\n",
            "18/18 [==============================] - 3s 181ms/step - loss: 1.3330 - accuracy: 0.5613 - val_loss: 13.6302 - val_accuracy: 0.1126\n",
            "Epoch 13/100\n",
            "18/18 [==============================] - 3s 174ms/step - loss: 1.3483 - accuracy: 0.5536 - val_loss: 11.6391 - val_accuracy: 0.1495\n",
            "Epoch 14/100\n",
            "18/18 [==============================] - 3s 177ms/step - loss: 1.3311 - accuracy: 0.5649 - val_loss: 13.1219 - val_accuracy: 0.1306\n",
            "Epoch 15/100\n",
            "18/18 [==============================] - 3s 177ms/step - loss: 1.3345 - accuracy: 0.5577 - val_loss: 17.2684 - val_accuracy: 0.1559\n",
            "Epoch 16/100\n",
            "18/18 [==============================] - 3s 176ms/step - loss: 1.3119 - accuracy: 0.5637 - val_loss: 19.6602 - val_accuracy: 0.1099\n",
            "Epoch 17/100\n",
            "18/18 [==============================] - 3s 178ms/step - loss: 1.3102 - accuracy: 0.5673 - val_loss: 23.7080 - val_accuracy: 0.1117\n",
            "Epoch 18/100\n",
            "18/18 [==============================] - 3s 177ms/step - loss: 1.3063 - accuracy: 0.5714 - val_loss: 29.5734 - val_accuracy: 0.1396\n",
            "Epoch 19/100\n",
            "18/18 [==============================] - 3s 178ms/step - loss: 1.2966 - accuracy: 0.5685 - val_loss: 37.7817 - val_accuracy: 0.1225\n",
            "Epoch 20/100\n",
            "18/18 [==============================] - 3s 182ms/step - loss: 1.2962 - accuracy: 0.5721 - val_loss: 46.2990 - val_accuracy: 0.1081\n",
            "Epoch 21/100\n",
            "18/18 [==============================] - 3s 177ms/step - loss: 1.2724 - accuracy: 0.5705 - val_loss: 61.9994 - val_accuracy: 0.1081\n",
            "Epoch 22/100\n",
            "18/18 [==============================] - 3s 176ms/step - loss: 1.2918 - accuracy: 0.5642 - val_loss: 78.1871 - val_accuracy: 0.1072\n",
            "Epoch 23/100\n",
            "18/18 [==============================] - 3s 185ms/step - loss: 1.2875 - accuracy: 0.5705 - val_loss: 121.7388 - val_accuracy: 0.1063\n",
            "Epoch 24/100\n",
            "18/18 [==============================] - 3s 184ms/step - loss: 1.2906 - accuracy: 0.5777 - val_loss: 158.9345 - val_accuracy: 0.1063\n",
            "Epoch 25/100\n",
            "18/18 [==============================] - 3s 187ms/step - loss: 1.2752 - accuracy: 0.5782 - val_loss: 178.7224 - val_accuracy: 0.1045\n",
            "Epoch 26/100\n",
            "18/18 [==============================] - 4s 243ms/step - loss: 1.2765 - accuracy: 0.5700 - val_loss: 276.1167 - val_accuracy: 0.1054\n",
            "Epoch 27/100\n",
            "18/18 [==============================] - 6s 325ms/step - loss: 1.2566 - accuracy: 0.5842 - val_loss: 376.0901 - val_accuracy: 0.1063\n",
            "Epoch 28/100\n",
            "18/18 [==============================] - 3s 185ms/step - loss: 1.2623 - accuracy: 0.5752 - val_loss: 463.3762 - val_accuracy: 0.1063\n",
            "Epoch 29/100\n",
            "18/18 [==============================] - 3s 185ms/step - loss: 1.2552 - accuracy: 0.5860 - val_loss: 690.3219 - val_accuracy: 0.1063\n",
            "Epoch 30/100\n",
            "18/18 [==============================] - 3s 187ms/step - loss: 1.2513 - accuracy: 0.5815 - val_loss: 1001.9540 - val_accuracy: 0.1072\n",
            "Epoch 31/100\n",
            "18/18 [==============================] - 3s 187ms/step - loss: 1.2336 - accuracy: 0.5872 - val_loss: 1197.2913 - val_accuracy: 0.1063\n",
            "Epoch 32/100\n",
            "18/18 [==============================] - 3s 187ms/step - loss: 1.2418 - accuracy: 0.5849 - val_loss: 1498.4674 - val_accuracy: 0.1063\n",
            "Epoch 33/100\n",
            "18/18 [==============================] - 3s 187ms/step - loss: 1.2581 - accuracy: 0.5784 - val_loss: 1931.4115 - val_accuracy: 0.1072\n",
            "Epoch 34/100\n",
            "18/18 [==============================] - 3s 187ms/step - loss: 1.2324 - accuracy: 0.5822 - val_loss: 2639.7327 - val_accuracy: 0.1072\n",
            "Epoch 35/100\n",
            "18/18 [==============================] - 3s 186ms/step - loss: 1.2166 - accuracy: 0.5912 - val_loss: 3404.1929 - val_accuracy: 0.1072\n",
            "Epoch 36/100\n",
            "18/18 [==============================] - 3s 190ms/step - loss: 1.2265 - accuracy: 0.5910 - val_loss: 4303.3647 - val_accuracy: 0.1072\n",
            "Epoch 37/100\n",
            "18/18 [==============================] - 3s 186ms/step - loss: 1.2190 - accuracy: 0.5939 - val_loss: 5196.4888 - val_accuracy: 0.1072\n",
            "Epoch 38/100\n",
            "18/18 [==============================] - 3s 183ms/step - loss: 1.2233 - accuracy: 0.5950 - val_loss: 6012.3989 - val_accuracy: 0.1072\n",
            "Epoch 39/100\n",
            "18/18 [==============================] - 3s 183ms/step - loss: 1.2087 - accuracy: 0.5941 - val_loss: 7519.2676 - val_accuracy: 0.1072\n",
            "Epoch 40/100\n",
            "18/18 [==============================] - 3s 184ms/step - loss: 1.1951 - accuracy: 0.5995 - val_loss: 8865.1719 - val_accuracy: 0.1063\n",
            "Epoch 41/100\n",
            "18/18 [==============================] - 3s 180ms/step - loss: 1.2106 - accuracy: 0.5912 - val_loss: 9903.7178 - val_accuracy: 0.1072\n",
            "Epoch 42/100\n",
            "18/18 [==============================] - 3s 181ms/step - loss: 1.2013 - accuracy: 0.5977 - val_loss: 11148.7207 - val_accuracy: 0.1072\n",
            "Epoch 43/100\n",
            "18/18 [==============================] - 3s 179ms/step - loss: 1.2026 - accuracy: 0.5914 - val_loss: 11641.7969 - val_accuracy: 0.1063\n",
            "Epoch 44/100\n",
            "18/18 [==============================] - 3s 179ms/step - loss: 1.1954 - accuracy: 0.5973 - val_loss: 13209.7598 - val_accuracy: 0.1072\n",
            "Epoch 45/100\n",
            "18/18 [==============================] - 3s 184ms/step - loss: 1.1936 - accuracy: 0.5984 - val_loss: 13521.9746 - val_accuracy: 0.1063\n",
            "Epoch 46/100\n",
            "18/18 [==============================] - 3s 179ms/step - loss: 1.1870 - accuracy: 0.6047 - val_loss: 14519.7764 - val_accuracy: 0.1063\n",
            "Epoch 47/100\n",
            "18/18 [==============================] - 3s 180ms/step - loss: 1.1896 - accuracy: 0.6045 - val_loss: 15263.6104 - val_accuracy: 0.1063\n",
            "Epoch 48/100\n",
            "18/18 [==============================] - 3s 182ms/step - loss: 1.1792 - accuracy: 0.6025 - val_loss: 16237.8789 - val_accuracy: 0.1063\n",
            "Epoch 49/100\n",
            "18/18 [==============================] - 3s 180ms/step - loss: 1.1853 - accuracy: 0.6034 - val_loss: 16715.0820 - val_accuracy: 0.1063\n",
            "Epoch 50/100\n",
            "18/18 [==============================] - 3s 181ms/step - loss: 1.1851 - accuracy: 0.5917 - val_loss: 17919.9102 - val_accuracy: 0.1063\n",
            "Epoch 51/100\n",
            "18/18 [==============================] - 3s 189ms/step - loss: 1.1684 - accuracy: 0.6101 - val_loss: 17464.6602 - val_accuracy: 0.1063\n",
            "Epoch 52/100\n",
            "18/18 [==============================] - 3s 184ms/step - loss: 1.1547 - accuracy: 0.6162 - val_loss: 17663.9688 - val_accuracy: 0.1063\n",
            "Epoch 53/100\n",
            "18/18 [==============================] - 4s 200ms/step - loss: 1.1693 - accuracy: 0.6124 - val_loss: 15951.3857 - val_accuracy: 0.1063\n",
            "Epoch 54/100\n",
            "18/18 [==============================] - 5s 287ms/step - loss: 1.1505 - accuracy: 0.6110 - val_loss: 16936.1387 - val_accuracy: 0.1063\n",
            "Epoch 55/100\n",
            "18/18 [==============================] - 4s 187ms/step - loss: 1.1538 - accuracy: 0.6097 - val_loss: 17300.0020 - val_accuracy: 0.1063\n",
            "Epoch 56/100\n",
            "18/18 [==============================] - 6s 314ms/step - loss: 1.1582 - accuracy: 0.6126 - val_loss: 17481.8008 - val_accuracy: 0.1063\n",
            "Epoch 57/100\n",
            "18/18 [==============================] - 4s 238ms/step - loss: 1.1804 - accuracy: 0.5986 - val_loss: 17623.9648 - val_accuracy: 0.1063\n",
            "Epoch 58/100\n",
            "18/18 [==============================] - 3s 189ms/step - loss: 1.1556 - accuracy: 0.6194 - val_loss: 19332.3320 - val_accuracy: 0.1063\n",
            "Epoch 59/100\n",
            "18/18 [==============================] - 3s 193ms/step - loss: 1.1637 - accuracy: 0.6002 - val_loss: 18955.8516 - val_accuracy: 0.1063\n",
            "Epoch 60/100\n",
            "18/18 [==============================] - 3s 186ms/step - loss: 1.1631 - accuracy: 0.6115 - val_loss: 19066.1699 - val_accuracy: 0.1072\n",
            "Epoch 61/100\n",
            "18/18 [==============================] - 3s 188ms/step - loss: 1.1388 - accuracy: 0.6142 - val_loss: 18372.0488 - val_accuracy: 0.1063\n",
            "Epoch 62/100\n",
            "18/18 [==============================] - 3s 193ms/step - loss: 1.1544 - accuracy: 0.6137 - val_loss: 19281.2793 - val_accuracy: 0.1063\n",
            "Epoch 63/100\n",
            "18/18 [==============================] - 3s 184ms/step - loss: 1.1461 - accuracy: 0.6128 - val_loss: 18302.0293 - val_accuracy: 0.1063\n",
            "Epoch 64/100\n",
            "18/18 [==============================] - 3s 184ms/step - loss: 1.1505 - accuracy: 0.6124 - val_loss: 19896.1582 - val_accuracy: 0.1063\n",
            "Epoch 65/100\n",
            "18/18 [==============================] - 3s 190ms/step - loss: 1.1458 - accuracy: 0.6104 - val_loss: 19170.2129 - val_accuracy: 0.1063\n",
            "Epoch 66/100\n",
            "18/18 [==============================] - 3s 188ms/step - loss: 1.1470 - accuracy: 0.6079 - val_loss: 19952.7129 - val_accuracy: 0.1063\n",
            "Epoch 67/100\n",
            "18/18 [==============================] - 4s 222ms/step - loss: 1.1269 - accuracy: 0.6180 - val_loss: 20456.9102 - val_accuracy: 0.1072\n",
            "Epoch 68/100\n",
            "18/18 [==============================] - 3s 187ms/step - loss: 1.1358 - accuracy: 0.6108 - val_loss: 20532.9160 - val_accuracy: 0.1072\n",
            "Epoch 69/100\n",
            "18/18 [==============================] - 3s 185ms/step - loss: 1.1307 - accuracy: 0.6203 - val_loss: 21359.3867 - val_accuracy: 0.1063\n",
            "Epoch 70/100\n",
            "18/18 [==============================] - 3s 182ms/step - loss: 1.1016 - accuracy: 0.6216 - val_loss: 20484.9043 - val_accuracy: 0.1063\n",
            "Epoch 71/100\n",
            "18/18 [==============================] - 3s 185ms/step - loss: 1.1295 - accuracy: 0.6241 - val_loss: 19202.8633 - val_accuracy: 0.1063\n",
            "Epoch 72/100\n",
            "18/18 [==============================] - 3s 186ms/step - loss: 1.1293 - accuracy: 0.6196 - val_loss: 19501.9941 - val_accuracy: 0.1072\n",
            "Epoch 73/100\n",
            "18/18 [==============================] - 3s 185ms/step - loss: 1.1244 - accuracy: 0.6164 - val_loss: 19795.1582 - val_accuracy: 0.1063\n",
            "Epoch 74/100\n",
            "18/18 [==============================] - 3s 187ms/step - loss: 1.1063 - accuracy: 0.6264 - val_loss: 19063.3184 - val_accuracy: 0.1063\n",
            "Epoch 75/100\n",
            "18/18 [==============================] - 3s 186ms/step - loss: 1.1171 - accuracy: 0.6221 - val_loss: 20794.1855 - val_accuracy: 0.1063\n",
            "Epoch 76/100\n",
            "18/18 [==============================] - 3s 188ms/step - loss: 1.1146 - accuracy: 0.6218 - val_loss: 19903.2207 - val_accuracy: 0.1063\n",
            "Epoch 77/100\n",
            "18/18 [==============================] - 3s 186ms/step - loss: 1.1074 - accuracy: 0.6191 - val_loss: 19242.1465 - val_accuracy: 0.1063\n",
            "Epoch 78/100\n",
            "18/18 [==============================] - 3s 189ms/step - loss: 1.1106 - accuracy: 0.6209 - val_loss: 19983.1035 - val_accuracy: 0.1063\n",
            "Epoch 79/100\n",
            "18/18 [==============================] - 3s 186ms/step - loss: 1.1170 - accuracy: 0.6205 - val_loss: 21987.7617 - val_accuracy: 0.1063\n",
            "Epoch 80/100\n",
            "18/18 [==============================] - 3s 188ms/step - loss: 1.1020 - accuracy: 0.6227 - val_loss: 21026.1270 - val_accuracy: 0.1072\n",
            "Epoch 81/100\n",
            "18/18 [==============================] - 3s 186ms/step - loss: 1.1013 - accuracy: 0.6295 - val_loss: 22116.3848 - val_accuracy: 0.1063\n",
            "Epoch 82/100\n",
            "18/18 [==============================] - 3s 184ms/step - loss: 1.1089 - accuracy: 0.6243 - val_loss: 21677.9355 - val_accuracy: 0.1063\n",
            "Epoch 83/100\n",
            "18/18 [==============================] - 3s 185ms/step - loss: 1.0957 - accuracy: 0.6302 - val_loss: 21515.1895 - val_accuracy: 0.1063\n",
            "Epoch 84/100\n",
            "18/18 [==============================] - 3s 186ms/step - loss: 1.1079 - accuracy: 0.6221 - val_loss: 21141.9629 - val_accuracy: 0.1072\n",
            "Epoch 85/100\n",
            "18/18 [==============================] - 3s 184ms/step - loss: 1.1202 - accuracy: 0.6162 - val_loss: 21802.0098 - val_accuracy: 0.1072\n",
            "Epoch 86/100\n",
            "18/18 [==============================] - 3s 184ms/step - loss: 1.0979 - accuracy: 0.6293 - val_loss: 23897.3535 - val_accuracy: 0.1063\n",
            "Epoch 87/100\n",
            "18/18 [==============================] - 3s 187ms/step - loss: 1.0858 - accuracy: 0.6329 - val_loss: 23607.0527 - val_accuracy: 0.1063\n",
            "Epoch 88/100\n",
            "18/18 [==============================] - 3s 184ms/step - loss: 1.0941 - accuracy: 0.6295 - val_loss: 22172.6426 - val_accuracy: 0.1072\n",
            "Epoch 89/100\n",
            "18/18 [==============================] - 3s 185ms/step - loss: 1.0875 - accuracy: 0.6347 - val_loss: 23160.2012 - val_accuracy: 0.1063\n",
            "Epoch 90/100\n",
            "18/18 [==============================] - 3s 188ms/step - loss: 1.0806 - accuracy: 0.6318 - val_loss: 23194.2461 - val_accuracy: 0.1063\n",
            "Epoch 91/100\n",
            "18/18 [==============================] - 3s 185ms/step - loss: 1.0982 - accuracy: 0.6331 - val_loss: 21861.9766 - val_accuracy: 0.1063\n",
            "Epoch 92/100\n",
            "18/18 [==============================] - 3s 184ms/step - loss: 1.0803 - accuracy: 0.6288 - val_loss: 22113.5391 - val_accuracy: 0.1063\n",
            "Epoch 93/100\n",
            "18/18 [==============================] - 3s 188ms/step - loss: 1.0797 - accuracy: 0.6304 - val_loss: 21828.5195 - val_accuracy: 0.1072\n",
            "Epoch 94/100\n",
            "18/18 [==============================] - 3s 186ms/step - loss: 1.0698 - accuracy: 0.6354 - val_loss: 23904.8340 - val_accuracy: 0.1063\n",
            "Epoch 95/100\n",
            "18/18 [==============================] - 3s 187ms/step - loss: 1.0864 - accuracy: 0.6282 - val_loss: 21843.1074 - val_accuracy: 0.1072\n",
            "Epoch 96/100\n",
            "18/18 [==============================] - 3s 187ms/step - loss: 1.0835 - accuracy: 0.6284 - val_loss: 21798.5332 - val_accuracy: 0.1063\n",
            "Epoch 97/100\n",
            "18/18 [==============================] - 3s 186ms/step - loss: 1.0871 - accuracy: 0.6223 - val_loss: 20948.8438 - val_accuracy: 0.1063\n",
            "Epoch 98/100\n",
            "18/18 [==============================] - 3s 183ms/step - loss: 1.0737 - accuracy: 0.6365 - val_loss: 20116.2344 - val_accuracy: 0.1063\n",
            "Epoch 99/100\n",
            "18/18 [==============================] - 3s 190ms/step - loss: 1.0719 - accuracy: 0.6309 - val_loss: 23827.5488 - val_accuracy: 0.1063\n",
            "Epoch 100/100\n",
            "18/18 [==============================] - 3s 194ms/step - loss: 1.0929 - accuracy: 0.6261 - val_loss: 24944.8340 - val_accuracy: 0.1063\n"
          ]
        },
        {
          "data": {
            "text/plain": [
              "<keras.callbacks.History at 0x7fef757ff150>"
            ]
          },
          "execution_count": 19,
          "metadata": {},
          "output_type": "execute_result"
        }
      ],
      "source": [
        "from tensorflow.keras.callbacks import LearningRateScheduler\n",
        "lrate = LearningRateScheduler(step_decay)\n",
        "model.fit(train_datagen.flow(X_train, y_train,batch_size=256),batch_size=128,epochs=100,verbose=1,validation_data=(X_test,y_test))"
      ]
    },
    {
      "cell_type": "code",
      "execution_count": null,
      "metadata": {
        "id": "emiXkakfIVlA"
      },
      "outputs": [],
      "source": [
        "def plotImages(images_arr):\n",
        "    fig, axes = plt.subplots(1, 10, figsize=(20,20))\n",
        "    axes = axes.flatten()\n",
        "    for img, ax in zip( images_arr, axes):\n",
        "        ax.imshow(img)\n",
        "        ax.axis('off')\n",
        "    plt.tight_layout()\n",
        "    plt.show()"
      ]
    },
    {
      "cell_type": "code",
      "execution_count": null,
      "metadata": {
        "colab": {
          "base_uri": "https://localhost:8080/",
          "height": 285
        },
        "id": "0VmEXK27IajY",
        "outputId": "4626d6eb-3a78-4c60-926c-a36c5eadd5ac"
      },
      "outputs": [
        {
          "data": {
            "image/png": "[encoded data removed]",
            "text/plain": [
              "<Figure size 1440x1440 with 10 Axes>"
            ]
          },
          "metadata": {},
          "output_type": "display_data"
        },
        {
          "name": "stdout",
          "output_type": "stream",
          "text": [
            "[[0. 0. 0. ... 0. 0. 0.]\n",
            " [0. 1. 0. ... 0. 0. 0.]\n",
            " [0. 0. 0. ... 0. 1. 0.]\n",
            " ...\n",
            " [0. 1. 0. ... 0. 0. 0.]\n",
            " [0. 1. 0. ... 0. 0. 0.]\n",
            " [0. 0. 0. ... 1. 0. 0.]]\n"
          ]
        }
      ],
      "source": [
        "plotImages(X_train)\n",
        "print(y_train)"
      ]
    },
    {
      "cell_type": "code",
      "execution_count": null,
      "metadata": {
        "colab": {
          "background_save": true,
          "base_uri": "https://localhost:8080/"
        },
        "id": "jsw9hsUoVzto",
        "outputId": "38747e39-e564-4dc0-d531-43421b39f143"
      },
      "outputs": [
        {
          "name": "stdout",
          "output_type": "stream",
          "text": [
            "Epoch 1/200\n",
            "139/139 [==============================] - 347s 2s/step - loss: 1.7949 - accuracy: 0.4124 - val_loss: 145.5406 - val_accuracy: 0.0892\n",
            "Epoch 2/200\n",
            "139/139 [==============================] - 344s 2s/step - loss: 1.7138 - accuracy: 0.4250 - val_loss: 208.5913 - val_accuracy: 0.1108\n",
            "Epoch 3/200\n",
            "139/139 [==============================] - 340s 2s/step - loss: 1.6136 - accuracy: 0.4779 - val_loss: 1595.8154 - val_accuracy: 0.0991\n",
            "Epoch 4/200\n",
            "139/139 [==============================] - 346s 2s/step - loss: 1.5706 - accuracy: 0.4851 - val_loss: 6211.7573 - val_accuracy: 0.1099\n",
            "Epoch 5/200\n",
            "139/139 [==============================] - 345s 2s/step - loss: 1.5338 - accuracy: 0.4998 - val_loss: 12178.2568 - val_accuracy: 0.1099\n",
            "Epoch 6/200\n",
            "139/139 [==============================] - 345s 2s/step - loss: 1.5118 - accuracy: 0.5007 - val_loss: 17678.3730 - val_accuracy: 0.1099\n",
            "Epoch 7/200\n",
            "139/139 [==============================] - 343s 2s/step - loss: 1.4894 - accuracy: 0.5086 - val_loss: 15843.8232 - val_accuracy: 0.1099\n",
            "Epoch 8/200\n",
            "139/139 [==============================] - 342s 2s/step - loss: 1.4895 - accuracy: 0.5083 - val_loss: 10747.2734 - val_accuracy: 0.1099\n",
            "Epoch 9/200\n",
            "139/139 [==============================] - 345s 2s/step - loss: 1.4692 - accuracy: 0.5115 - val_loss: 14616.0234 - val_accuracy: 0.0829\n",
            "Epoch 10/200\n",
            "139/139 [==============================] - 342s 2s/step - loss: 1.4918 - accuracy: 0.5054 - val_loss: 12710.9531 - val_accuracy: 0.1099\n",
            "Epoch 11/200\n",
            "139/139 [==============================] - 341s 2s/step - loss: 1.4515 - accuracy: 0.5207 - val_loss: 14008.7236 - val_accuracy: 0.1252\n",
            "Epoch 12/200\n",
            "139/139 [==============================] - 341s 2s/step - loss: 1.4365 - accuracy: 0.5243 - val_loss: 17387.1758 - val_accuracy: 0.1288\n",
            "Epoch 13/200\n",
            "139/139 [==============================] - 342s 2s/step - loss: 1.4245 - accuracy: 0.5257 - val_loss: 12982.8174 - val_accuracy: 0.0793\n",
            "Epoch 14/200\n",
            "139/139 [==============================] - 340s 2s/step - loss: 1.4351 - accuracy: 0.5302 - val_loss: 13889.2061 - val_accuracy: 0.1099\n",
            "Epoch 15/200\n",
            "139/139 [==============================] - 341s 2s/step - loss: 1.4385 - accuracy: 0.5236 - val_loss: 9884.8311 - val_accuracy: 0.0946\n",
            "Epoch 16/200\n",
            "139/139 [==============================] - 342s 2s/step - loss: 1.3991 - accuracy: 0.5396 - val_loss: 10166.5449 - val_accuracy: 0.1108\n",
            "Epoch 17/200\n",
            "139/139 [==============================] - 340s 2s/step - loss: 1.4082 - accuracy: 0.5329 - val_loss: 11819.9395 - val_accuracy: 0.1027\n",
            "Epoch 18/200\n",
            "139/139 [==============================] - 339s 2s/step - loss: 1.3919 - accuracy: 0.5309 - val_loss: 10249.9404 - val_accuracy: 0.1153\n",
            "Epoch 19/200\n",
            "139/139 [==============================] - 341s 2s/step - loss: 1.3897 - accuracy: 0.5444 - val_loss: 12895.9482 - val_accuracy: 0.1036\n",
            "Epoch 20/200\n",
            "139/139 [==============================] - ETA: 0s - loss: 1.4074 - accuracy: 0.5291"
          ]
        }
      ],
      "source": [
        "import math\n",
        "from tensorflow.keras.regularizers import l2\n",
        "from sklearn.model_selection import StratifiedKFold\n",
        "from sklearn.metrics import f1_score\n",
        "from sklearn.metrics import classification_report\n",
        "from tensorflow.keras.models import Sequential\n",
        "from tensorflow.keras.layers import Dense\n",
        "import numpy\n",
        "from tensorflow.keras.callbacks import LearningRateScheduler\n",
        "from tensorflow.keras.wrappers.scikit_learn import KerasClassifier\n",
        "from sklearn.model_selection import RepeatedKFold\n",
        "from sklearn.metrics import f1_score\n",
        "\n",
        "Y_2 = np.array(Y)\n",
        "\n",
        "\n",
        "#training and cross validation with regularisation\n",
        "kfold = RepeatedKFold(n_splits=5,n_repeats=2)\n",
        "cvscores = []\n",
        "iteration = 1\n",
        "f1scores = []\n",
        "\n",
        "for train_index, test_index in kfold.split(X,Y.argmax(1)):\n",
        "\n",
        "    x_train,x_test=X[train_index],X[test_index]\n",
        "    y_train,y_test=Y_2[train_index],Y_2[test_index]\n",
        "    lrate = LearningRateScheduler(step_decay)\n",
        "    #callbacks=lrate\n",
        "    #model.fit_generator(data_gen.flow(x_train, y_train,batch_size=512),epochs=10,verbose=1,validation_data=(x_test,y_test))\n",
        "    model.fit(train_datagen.flow(x_train, y_train,batch_size=256),batch_size=256,epochs=200,verbose=1,validation_data=(x_test,y_test))\n",
        "    scores=model.evaluate(x_test, y_test, verbose=0)\n",
        "    cvscores.append(scores[1] * 100)\n",
        "    #calculate F1 score\n",
        "    y_pred = model.predict(x_test, batch_size=256,verbose=1)\n",
        "    #y_pred = np.argmax(y_pred, axis = 1)\n",
        "    #f1 = f1_score(y_test, y_pred, average='macro')\n",
        "    #f1scores.append(f1)\n",
        "    iteration = iteration + 1\n",
        "print(\"Accuracy: %.2f%% (+/- %.2f%%)\" % (numpy.mean(cvscores), numpy.std(cvscores)))\n",
        "#print(\"F1: %.2f%% (+/- %.2f%%)\" % (numpy.mean(f1scores), numpy.std(f1scores)))\n"
      ]
    },
    {
      "cell_type": "code",
      "execution_count": null,
      "metadata": {
        "id": "kM8-x5sPl1Yj"
      },
      "outputs": [],
      "source": [
        "\n",
        "# model = Sequential()\n",
        "\n",
        "# activation = 'relu'\n",
        "# model = Sequential()\n",
        "# model.add(Conv2D(16, (3,3), activation = activation, padding = 'same', input_shape = (IMG_SIZE, IMG_SIZE, 3)))\n",
        "# model.add(Dropout(0.4))\n",
        "# model.add(MaxPooling2D((2,2) , strides=(2,2)))\n",
        "\n",
        "# model.add(Conv2D(32, 3, activation = activation, padding = 'same'))\n",
        "# model.add(Dropout(0.4))\n",
        "# model.add(MaxPooling2D((2,2) , strides=(2,2)))\n",
        "\n",
        "# model.add(Conv2D(64, 3, activation = activation, padding = 'same'))\n",
        "# model.add(Dropout(0.4))\n",
        "# model.add(MaxPooling2D((2,2) , strides=(2,2)))\n",
        "\n",
        "# model.add(Flatten())\n",
        "\n",
        "# model.add(Dropout(0.5))\n",
        "# model.add(Dense(128, activation = activation))\n",
        "# model.add(Dropout(0.6))\n",
        "\n",
        "\n",
        "# model.add(Dense(11, activation = 'softmax'))\n",
        "\n",
        "# model.compile(optimizer ='adam',loss = 'categorical_crossentropy', metrics = ['accuracy'])\n",
        "# print(model.summary())"
      ]
    },
    {
      "cell_type": "code",
      "execution_count": null,
      "metadata": {
        "id": "9KfSEUxeNKct"
      },
      "outputs": [],
      "source": [
        "# my_callbacks = [\n",
        "    # tf.keras.callbacks.EarlyStopping(patience=1),\n",
        "    # tf.keras.callbacks.ModelCheckpoint(filepath='model.{epoch:02d}-{val_loss:.2f}.h5'),\n",
        "    # tf.keras.callbacks.TensorBoard(log_dir='./logs'),\n",
        "# ]\n",
        "# history = model.fit(X_train, y_train, batch_size=32, epochs=30, callbacks=my_callbacks , validation_data = (X_test, y_test))"
      ]
    },
    {
      "cell_type": "code",
      "execution_count": null,
      "metadata": {
        "id": "PMYvwk3GB1AQ"
      },
      "outputs": [],
      "source": [
        "# history = model.fit(X_train, y_train , batch_size = 32, epochs = 30, verbose = 1 , validation_split=0.1)"
      ]
    },
    {
      "cell_type": "code",
      "execution_count": null,
      "metadata": {
        "id": "gLDOH2jiB2PM"
      },
      "outputs": [],
      "source": [
        "score = model.evaluate(X_test, y_test, verbose = 0 )\n",
        "print(f\"Test Score: {score[0]:.2f}\")\n",
        "print(f\"Test accuracy: {score[1]*100:.3f}%\")"
      ]
    },
    {
      "cell_type": "code",
      "execution_count": null,
      "metadata": {
        "id": "XjC682ICr88h"
      },
      "outputs": [],
      "source": [
        "# evaluate the model\n",
        "_, train_mse = model.evaluate(X_train, y_train, verbose=0)\n",
        "_, test_mse = model.evaluate(X_test, y_test, verbose=0)\n",
        "print('Train: %.3f, Test: %.3f' % (train_mse, test_mse))\n",
        "# plot loss during training\n",
        "pyplot.subplot(211)\n",
        "pyplot.title('Loss')\n",
        "pyplot.plot(history.history['loss'], label='train')\n",
        "pyplot.plot(history.history['val_loss'], label='test')\n",
        "pyplot.legend()\n",
        "# plot accuracy during training\n",
        "pyplot.subplot(212)\n",
        "pyplot.title('Accuracy')\n",
        "pyplot.plot(history.history['accuracy'], label='train')\n",
        "pyplot.plot(history.history['val_accuracy'], label='test')\n",
        "pyplot.legend()"
      ]
    },
    {
      "cell_type": "code",
      "execution_count": null,
      "metadata": {
        "id": "Bpma_UO99JiE"
      },
      "outputs": [],
      "source": [
        "\n",
        "img_names =[]\n",
        "test= []\n",
        "for img in sorted(os.listdir(\"/content/gdrive/MyDrive/Test/\")):\n",
        "\n",
        "  img_names.append(img)\n",
        "  images_path= os.path.join(\"/content/gdrive/MyDrive/Test/\",img)\n",
        "  imgdata = cv2.imread(images_path)\n",
        "\n",
        "  if(images_path ==\"/content/gdrive/MyDrive/Test/test_1297.jpg\" ):\n",
        "    imgdata = cv2.imread(\"/content/gdrive/MyDrive/Test/test_1.jpg\",1)\n",
        "    imgdata = cv2.resize(np.array(imgdata),(IMG_SIZE,IMG_SIZE))\n",
        "    test.append(np.array(imgdata))\n",
        "\n",
        "\n",
        "    continue\n",
        "  else:\n",
        "    imgdata = cv2.resize(np.array(imgdata),(IMG_SIZE,IMG_SIZE))\n",
        "    test.append(np.array(imgdata))\n",
        "\n",
        "test =np.array(test)\n",
        "\n"
      ]
    },
    {
      "cell_type": "code",
      "execution_count": null,
      "metadata": {
        "id": "NO6m7lzsr6ZI"
      },
      "outputs": [],
      "source": [
        "test = test / 255.0"
      ]
    },
    {
      "cell_type": "code",
      "execution_count": null,
      "metadata": {
        "id": "P5TAasrU0hT8"
      },
      "outputs": [],
      "source": [
        "predict = model.predict(test)\n",
        "predict2 = np.argmax(predict,axis=1)"
      ]
    },
    {
      "cell_type": "code",
      "execution_count": null,
      "metadata": {
        "id": "XlvadQHBTfuF"
      },
      "outputs": [],
      "source": [
        "predict2"
      ]
    },
    {
      "cell_type": "code",
      "execution_count": null,
      "metadata": {
        "id": "77HQgnJB2uy9"
      },
      "outputs": [],
      "source": [
        "df = pd.DataFrame (img_names, columns = ['image_name'])"
      ]
    },
    {
      "cell_type": "code",
      "execution_count": null,
      "metadata": {
        "id": "VUttL8fM2wot"
      },
      "outputs": [],
      "source": [
        "df2 = pd.DataFrame (predict2, columns = ['label'])\n",
        "\n",
        "df2"
      ]
    },
    {
      "cell_type": "code",
      "execution_count": null,
      "metadata": {
        "id": "JpBN_QPPBUFE"
      },
      "outputs": [],
      "source": [
        "frames = [df, df2]\n",
        "\n",
        "result = pd.concat([df, df2], axis=1, join='inner')\n",
        "\n",
        "result"
      ]
    },
    {
      "cell_type": "code",
      "execution_count": null,
      "metadata": {
        "id": "3o08EZiHWUbw"
      },
      "outputs": [],
      "source": [
        "result.to_csv('DADAH.csv', index=False)"
      ]
    }
  ],
  "metadata": {
    "accelerator": "GPU",
    "colab": {
      "provenance": [],
      "include_colab_link": true
    },
    "kernelspec": {
      "display_name": "Python 3",
      "name": "python3"
    },
    "language_info": {
      "name": "python"
    }
  },
  "nbformat": 4,
  "nbformat_minor": 0
}